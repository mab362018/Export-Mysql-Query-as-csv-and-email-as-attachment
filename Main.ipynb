import pymysql
import pandas as pd
import datetime
import smtplib
from email.mime.text import MIMEText
from email.mime.multipart import MIMEMultipart
from email.mime.base import MIMEBase
from email import encoders
import os.path

counter = pd.datetime.now().strftime("%m-%d-%Y")

process_name = 'Process Name' #PUT PROCESS NAME
process_id = '1234' #PUT PROCESS ID

conn=pymysql.connect(host='0.0.0.0',port=int(3306),user='UserName',passwd='Password123',db='DatabaseName')

data=pd.read_sql_query("SELECT * From db.table_name" ,conn)

data.to_csv(process_id+'-'+process_name+'.csv', index=False)

#EMAIL SENDER
email = 'your_sender@email.com'
password = 'YourPassword123'

#EMAIL RECEIVER
send_to_email = 'your_receiver@email.com'
subject = 'Report ' + counter + '-'+ process_name+'-'+process_id
message = ''
file_location = process_id + '-' + process_name + '.csv'

#MESSAGE CONFIGURATOR
msg = MIMEMultipart()
msg['From'] = email
msg['To'] = send_to_email
msg['Subject'] = subject

msg.attach(MIMEText('Please see attached file.'))

# Setup the attachment
filename = os.path.basename(file_location)
attachment = open(file_location, "rb")
part = MIMEBase('application', 'octet-stream')
part.set_payload(attachment.read())
encoders.encode_base64(part)
part.add_header('Content-Disposition', "attachment; filename= %s" % filename)

# Attach the attachment to the MIMEMultipart object
msg.attach(part)

server = smtplib.SMTP('smtp.gmail.com', 587)
server.starttls()
server.login(email, password)
text = msg.as_string()
server.sendmail(email, send_to_email, text)
server.quit()

data.tail()
print(process_id + '-' + process_name + ' Has been sent')
